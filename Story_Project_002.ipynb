{
  "cells": [
    {
      "cell_type": "markdown",
      "metadata": {
        "id": "view-in-github",
        "colab_type": "text"
      },
      "source": [
        "<a href=\"https://colab.research.google.com/github/walabe8/Story_Project/blob/main/Story_Project_002.ipynb\" target=\"_parent\"><img src=\"https://colab.research.google.com/assets/colab-badge.svg\" alt=\"Open In Colab\"/></a>"
      ]
    },
    {
      "cell_type": "code",
      "execution_count": 4,
      "metadata": {
        "colab": {
          "base_uri": "https://localhost:8080/",
          "height": 610
        },
        "id": "gYOW9tT1DDnL",
        "outputId": "86ddda5c-7f18-4309-c7ec-2443bb91b0d6"
      },
      "outputs": [
        {
          "name": "stdout",
          "output_type": "stream",
          "text": [
            "~ Tales of UMBC ~\n",
            "A Work of Fiction\n",
            "\n",
            "You are a knight in the year 650 CE, and you're trying to become the most famous knight of them all.\n",
            "You decide to go on an adventure at Castle UMBC to earn your glory!\n",
            "\n",
            "You are outside the castle grounds, and see three different people asking for help.\n",
            "You could talk to:\n",
            "\n",
            "    A. The local blacksmith, who needs a rare sword\n",
            "    B. The town's teacher, who has a question\n",
            "    C. The king, who needs a brave warrior\n",
            "\n",
            "Who will you talk to?\n",
            "Please select option A through C: B\n",
            "\n",
            "You meet with the town teacher, who is asking you a question\n",
            "'I have to be honest with you,' they say. 'I am not really qualified to teach and am struggling with this question'\n",
            "They gesture to a math equation that reads as follows:\n",
            "\n",
            "y = 6 + 2 + 1\n",
            "\n",
            "Please enter the solution to this problem: C\n"
          ]
        },
        {
          "output_type": "error",
          "ename": "ValueError",
          "evalue": "invalid literal for int() with base 10: 'C'",
          "traceback": [
            "\u001b[0;31m---------------------------------------------------------------------------\u001b[0m",
            "\u001b[0;31mValueError\u001b[0m                                Traceback (most recent call last)",
            "\u001b[0;32m<ipython-input-4-8d6e903937dc>\u001b[0m in \u001b[0;36m<cell line: 61>\u001b[0;34m()\u001b[0m\n\u001b[1;32m     67\u001b[0m   \u001b[0mprint\u001b[0m\u001b[0;34m(\u001b[0m\u001b[0;34m)\u001b[0m\u001b[0;34m\u001b[0m\u001b[0;34m\u001b[0m\u001b[0m\n\u001b[1;32m     68\u001b[0m   \u001b[0mquestion\u001b[0m \u001b[0;34m=\u001b[0m \u001b[0minput\u001b[0m\u001b[0;34m(\u001b[0m\u001b[0;34m\"Please enter the solution to this problem: \"\u001b[0m\u001b[0;34m)\u001b[0m\u001b[0;34m\u001b[0m\u001b[0;34m\u001b[0m\u001b[0m\n\u001b[0;32m---> 69\u001b[0;31m   \u001b[0mintQuestion\u001b[0m \u001b[0;34m=\u001b[0m \u001b[0mint\u001b[0m\u001b[0;34m(\u001b[0m\u001b[0mquestion\u001b[0m\u001b[0;34m)\u001b[0m\u001b[0;34m\u001b[0m\u001b[0;34m\u001b[0m\u001b[0m\n\u001b[0m\u001b[1;32m     70\u001b[0m   \u001b[0mprint\u001b[0m\u001b[0;34m(\u001b[0m\u001b[0;34m)\u001b[0m\u001b[0;34m\u001b[0m\u001b[0;34m\u001b[0m\u001b[0m\n\u001b[1;32m     71\u001b[0m \u001b[0;34m\u001b[0m\u001b[0m\n",
            "\u001b[0;31mValueError\u001b[0m: invalid literal for int() with base 10: 'C'"
          ]
        }
      ],
      "source": [
        "# Intro\n",
        "print(\"~ Tales of UMBC ~\")\n",
        "print(\"A Work of Fiction\")\n",
        "print()\n",
        "print(\"You are a knight in the year 650 CE, and you're trying to become the most famous knight of them all.\")\n",
        "print(\"You decide to go on an adventure at Castle UMBC to earn your glory!\")\n",
        "print()\n",
        "\n",
        "# Options + variable naming\n",
        "blacksmith = \"A\"\n",
        "teacher = \"B\"\n",
        "king = \"C\"\n",
        "print(\"You are outside the castle grounds, and see three different people asking for help.\")\n",
        "print(\"You could talk to:\")\n",
        "print()\n",
        "print(\"    A. The local blacksmith, who needs a rare sword\")\n",
        "print(\"    B. The town's teacher, who has a question\")\n",
        "print(\"    C. The king, who needs a brave warrior\")\n",
        "\n",
        "# Ask the user to select one of three stories\n",
        "print()\n",
        "print(\"Who will you talk to?\")\n",
        "options = input(\"Please select option A through C: \")\n",
        "print()\n",
        "\n",
        "# user inputs anything but A - C, tell them\n",
        "# if options != \"A\" || \"B\" || \"C\"\n",
        "#   print(\"You must enter a correct value!\")\n",
        "\n",
        "# Blacksmith options + variables\n",
        "if options == blacksmith:\n",
        "  Desert = \"A\"\n",
        "  Forest = \"B\"\n",
        "  Arctic = \"C\"\n",
        "  print(\"You meet with the town blacksmith, looking for a legendary sword.\")\n",
        "  print(\"They tell you that the legend is that the sword is frozen in ice waiting to be found.\")\n",
        "  print(\"You choose to search for it:\")\n",
        "  print()\n",
        "  print(\"    A. In the Desert\")\n",
        "  print(\"    B. In the Forest\")\n",
        "  print(\"    C. In the Arctic\")\n",
        "  print()\n",
        "  optionsTerrain = input(\"Please select option A - C: \")\n",
        "\n",
        "# Terrain boolean logic\n",
        "  if (optionsTerrain == Arctic):\n",
        "    print()\n",
        "    print(\"After looking long and hard through the arctic, you've found it - the legendary sword or programming!\")\n",
        "    print(\"The blacksmith is thrilled and rewards you with a suit of armor worthy of a hero!\")\n",
        "    print()\n",
        "    print(\"~ The End ~\")\n",
        "  else:\n",
        "    print()\n",
        "    print(\"You searched and searched for the rest of your life, but you never found it.\")\n",
        "    print(\"It might've been a good idea to heed the blacksmith's advice and go to a cold place\")\n",
        "    print()\n",
        "    print(\"~ The End ~\")\n",
        "\n",
        "\n",
        "# Teacher riddle scenario\n",
        "if (options == teacher):\n",
        "  print(\"You meet with the town teacher, who is asking you a question\")\n",
        "  print(\"'I have to be honest with you,' they say. 'I am not really qualified to teach and am struggling with this question'\")\n",
        "  print(\"They gesture to a math equation that reads as follows:\")\n",
        "  print()\n",
        "  print(\"y = 6 + 2 + 1\")\n",
        "  print()\n",
        "  question = input(\"Please enter the solution to this problem: \")\n",
        "  intQuestion = int(question)\n",
        "  print()\n",
        "\n",
        "# logic for outcome\n",
        "  if (intQuestion == 9):\n",
        "    print(\"'That makes perfect sense!' the teacher cries, and they award you with an honorary degree\")\n",
        "    print(\"You are forever known as one of the smartest in the land!\")\n",
        "    print()\n",
        "    print(\"~ The End~\")\n",
        "  else:\n",
        "    print(\"You have entered the wrong number!\")\n",
        "\n",
        "\n",
        "# King's story\n",
        "if (options == king):\n",
        "  print(\"You meet with the king of UMBC, looking for a brave warrior.\")\n",
        "  print(\"'I need someone to conquer a nearby dragon to save the kingdom! There is no time, head east and be ready for battle!'\")\n",
        "  print()\n",
        "  print(\"You head east and find the dragon, You ready yourself for battle. But in a twist, the dragon asks you to solve a riddle in exchange for your kingdom\")\n",
        "  print()\n",
        "  print(\"What two numbers, when added together, equal ten?\")\n",
        "  print()\n",
        "  print(\"You ponder for a moment. There's multiple answers to this question, aren't there?\")\n",
        "  print(\"After thinking for a moment, you answer with two numbers...\")\n",
        "  firstNum = input(\"Enter the first number: \")\n",
        "  secondNum = input(\"Enter the second number: \")\n",
        "  print()\n",
        "\n",
        "# logic for the outcome\n",
        "if (firstNum + secondNum == 10):\n",
        "  print(f\"'Ah yes, {firstNum} and {secondNum} add up to 10!' the dragon explained\")\n",
        "  print(\"The dragon decides to leave your kingdom alone, and the King declares you are the greatest hero in all the land!\")\n",
        "  print()\n",
        "  print(\"~ The End ~\")\n",
        "else:\n",
        "  print(\"These numbers do not add up to 10!\")"
      ]
    },
    {
      "cell_type": "code",
      "source": [],
      "metadata": {
        "id": "5QPZGs1mu0V3"
      },
      "execution_count": null,
      "outputs": []
    }
  ],
  "metadata": {
    "colab": {
      "provenance": [],
      "authorship_tag": "ABX9TyMLzvMnrD7EosAo2zXoalXx",
      "include_colab_link": true
    },
    "kernelspec": {
      "display_name": "Python 3",
      "name": "python3"
    },
    "language_info": {
      "name": "python"
    }
  },
  "nbformat": 4,
  "nbformat_minor": 0
}